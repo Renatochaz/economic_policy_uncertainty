{
 "cells": [
  {
   "cell_type": "code",
   "execution_count": 1,
   "metadata": {},
   "outputs": [],
   "source": [
    "# Load dependencies.\n",
    "import pandas as pd\n",
    "import numpy as np\n",
    "module_path = os.path.abspath(os.path.join('/home/renatochaz/git/economic_policy_uncertainty/'))\n",
    "if module_path not in sys.path:\n",
    "    sys.path.append(module_path)"
   ]
  },
  {
   "cell_type": "code",
   "execution_count": 2,
   "metadata": {},
   "outputs": [],
   "source": [
    "## Load datasets.\n",
    "ds = pd.read_csv(f'{module_path}/raw-data/py_create_age_epu.csv')\n",
    "epu = pd.read_csv(f'{module_path}/raw-data/yearly_epu.csv')\n",
    "cvm = pd.read_csv(f'{module_path}/raw-data/dt_reg_info.csv')\n"
   ]
  },
  {
   "cell_type": "code",
   "execution_count": 3,
   "metadata": {},
   "outputs": [],
   "source": [
    "## Set year index to EPU information\n",
    "epu['ano'] = list(range(2010, 2020, 1))"
   ]
  },
  {
   "cell_type": "code",
   "execution_count": 4,
   "metadata": {},
   "outputs": [],
   "source": [
    "## Transform cv dt_reg to year format.\n",
    "cvm['dt_reg'] = pd.to_datetime(cvm['dt_reg']).dt.to_period('Y')"
   ]
  },
  {
   "cell_type": "code",
   "execution_count": 5,
   "metadata": {},
   "outputs": [],
   "source": [
    "## Transform EPU and CVM in a dict.\n",
    "epu_dict = dict(zip(epu['ano'], epu['x']))\n",
    "cvm_dict = dict(zip(cvm['id_cvm'], cvm['dt_reg'].dt.strftime('%Y')))"
   ]
  },
  {
   "cell_type": "code",
   "execution_count": 6,
   "metadata": {},
   "outputs": [],
   "source": [
    "## Add EPU to dataset.\n",
    "ds['epu'] = ds['ano'].map(epu_dict)"
   ]
  },
  {
   "cell_type": "code",
   "execution_count": 7,
   "metadata": {},
   "outputs": [],
   "source": [
    "## Add cvm reg_date.\n",
    "ds['cvm_reg'] = ds['id_cvm'].map(cvm_dict)"
   ]
  },
  {
   "cell_type": "code",
   "execution_count": 8,
   "metadata": {},
   "outputs": [
    {
     "data": {
      "text/plain": [
       "array(['BALM4', 'BAUH4', 'BDLL4', 'BRKM5', 'CAMB3', 'CBEE3', 'CEDO4',\n",
       "       'CESP6', 'CLSC4', 'CMIG4', 'CRUZ3', 'CSNA3', 'CTKA4', 'CTNM4',\n",
       "       'CTSA4', 'CZLT33', 'DAGB33', 'DOHL4', 'EALT4', 'EEEL4', 'ELEK3',\n",
       "       'ELET3', 'ETER3', 'EUCA4', 'FESA4', 'FRAS3', 'GGBR4', 'GOAU4',\n",
       "       'GUAR3', 'HOOT4', 'INEP4', 'JFEN3', 'KEPL3', 'LAME4', 'LEVE3',\n",
       "       'LIXC3', 'LREN3', 'LUXM4', 'MEND5', 'MGEL4', 'MNDL3', 'MSPA3',\n",
       "       'MTSA4', 'NAFG4', 'PATI3', 'PETR4', 'PMAM3', 'PNVL3', 'POMO4',\n",
       "       'PTNT3', 'RADL3', 'RANI3', 'REDE3', 'ROMI3', 'RPMG3', 'TASA4',\n",
       "       'TUPY3', 'VALE3', 'VVAR3', 'WEGE3', 'WSON33'], dtype=object)"
      ]
     },
     "execution_count": 8,
     "metadata": {},
     "output_type": "execute_result"
    }
   ],
   "source": [
    "## Finding firms without id_cvm in the dict.\n",
    "ds.loc[ds['cvm_reg'].isnull(),:]['codigo'].unique()"
   ]
  },
  {
   "cell_type": "code",
   "execution_count": 9,
   "metadata": {},
   "outputs": [],
   "source": [
    "## Manually created dict with dt_reg dates.\n",
    "man_dict = {'BALM4':1970, 'BAUH4':1977, 'BDLL4':1969, 'BRKM5':1978,\n",
    "            'CAMB3':1985, 'CBEE3':1969, 'CEDO4':1969, 'CESP6':1971,\n",
    "            'CLSC4':1973, 'CMIG4':1971, 'CRUZ3':1969, 'CSNA3':1943,\n",
    "            'CTKA4': 1971, 'CTNM4':1971, 'CTSA4':1984, 'CZLT33':2005,\n",
    "            'DAGB33':1998, 'DOHL4': 1937, 'EALT4': 1950, 'EEEL4': 1970,\n",
    "            'ELEK3':1971, 'ELET3':1996, 'ETER3':1970, 'EUCA4':1969,\n",
    "            'FESA4':1961, 'FRAS3':1977, 'GGBR4':1980, 'GOAU4':1968,\n",
    "            'GUAR3':1958, 'HOOT4':1980, 'INEP4':1980, 'JFEN3': 1977,\n",
    "            'KEPL3':1980, 'LAME4':1977, 'LEVE3':1977, 'LIXC3':1977,\n",
    "            'LREN3':1977, 'LUXM4':1980, 'MEND5':1977, 'MGEL4':1971,\n",
    "            'MNDL3':1979, 'MSPA3':1977, 'MTSA4':1971, 'NAFG4':1977,\n",
    "            'PATI3':1971, 'PETR4':1977, 'PMAM3':1977, 'PNVL3':1977,\n",
    "            'POMO4':1977, 'PTNT3':2000, 'RADL3':1977, 'RANI3':1977,\n",
    "            'REDE3':1969, 'ROMI3':1938, 'RPMG3':1970, 'TASA4':1982,\n",
    "            'TUPY3':1966, 'VALE3': 1970, 'VVAR3':1981, 'WEGE3':1982, 'WSON33':1998}"
   ]
  },
  {
   "cell_type": "code",
   "execution_count": 10,
   "metadata": {},
   "outputs": [],
   "source": [
    "## Add cvm reg_date from dict2.\n",
    "ds['cvm_reg2'] = ds['codigo'].map(man_dict)"
   ]
  },
  {
   "cell_type": "code",
   "execution_count": 11,
   "metadata": {},
   "outputs": [
    {
     "data": {
      "text/plain": [
       "(array([], dtype=int64),)"
      ]
     },
     "execution_count": 11,
     "metadata": {},
     "output_type": "execute_result"
    }
   ],
   "source": [
    "## Check where information conflict.\n",
    "np.where(ds['cvm_reg2'].isnull() == ds['cvm_reg'].isnull())\n"
   ]
  },
  {
   "cell_type": "code",
   "execution_count": 12,
   "metadata": {},
   "outputs": [],
   "source": [
    "## Merge columns together.\n",
    "ds['cvm_reg'].update(ds.pop('cvm_reg2'))"
   ]
  },
  {
   "cell_type": "code",
   "execution_count": 13,
   "metadata": {},
   "outputs": [
    {
     "data": {
      "text/plain": [
       "0"
      ]
     },
     "execution_count": 13,
     "metadata": {},
     "output_type": "execute_result"
    }
   ],
   "source": [
    "## Checking NA.\n",
    "ds['cvm_reg'].isnull().sum()"
   ]
  },
  {
   "cell_type": "code",
   "execution_count": 14,
   "metadata": {},
   "outputs": [],
   "source": [
    "## Create firm age.\n",
    "ds['idade_firma'] = ds['ano'].astype(int) - ds['cvm_reg'].astype(int)"
   ]
  },
  {
   "cell_type": "code",
   "execution_count": 15,
   "metadata": {},
   "outputs": [
    {
     "data": {
      "text/plain": [
       "(array([   0,    1, 1067, 1068, 1069, 1070, 1071, 1072, 1073, 1074, 1517,\n",
       "        1518, 1519, 1520, 1521, 1522, 1523, 1524, 1525]),)"
      ]
     },
     "execution_count": 15,
     "metadata": {},
     "output_type": "execute_result"
    }
   ],
   "source": [
    "## Checking negative values\n",
    "np.where(ds['idade_firma'] < 0)"
   ]
  },
  {
   "cell_type": "code",
   "execution_count": 16,
   "metadata": {},
   "outputs": [
    {
     "data": {
      "text/plain": [
       "array(['ABEV3', 'NTCO3', 'TIMS3'], dtype=object)"
      ]
     },
     "execution_count": 16,
     "metadata": {},
     "output_type": "execute_result"
    }
   ],
   "source": [
    "## Get firms with inconsistency age\n",
    "ds.loc[ds['idade_firma'] < 0]['codigo'].unique()"
   ]
  },
  {
   "cell_type": "code",
   "execution_count": 17,
   "metadata": {},
   "outputs": [
    {
     "data": {
      "text/plain": [
       "1998.0"
      ]
     },
     "execution_count": 17,
     "metadata": {},
     "output_type": "execute_result"
    }
   ],
   "source": [
    "## Get median to change cvm_reg from firms with negative age\n",
    "ds['cvm_reg'].astype(int).median()"
   ]
  },
  {
   "cell_type": "code",
   "execution_count": 18,
   "metadata": {},
   "outputs": [],
   "source": [
    "## Changing cvm_reg for those firms\n",
    "index = np.where(ds['codigo'].isin(['ABEV3', 'NTCO3', 'TIMS3']))"
   ]
  },
  {
   "cell_type": "code",
   "execution_count": 19,
   "metadata": {},
   "outputs": [
    {
     "data": {
      "text/plain": [
       "0       2013\n",
       "1       2013\n",
       "2       2013\n",
       "3       2013\n",
       "4       2013\n",
       "5       2013\n",
       "6       2013\n",
       "7       2013\n",
       "8       2013\n",
       "1067    2019\n",
       "1068    2019\n",
       "1069    2019\n",
       "1070    2019\n",
       "1071    2019\n",
       "1072    2019\n",
       "1073    2019\n",
       "1074    2019\n",
       "1075    2019\n",
       "1517    2020\n",
       "1518    2020\n",
       "1519    2020\n",
       "1520    2020\n",
       "1521    2020\n",
       "1522    2020\n",
       "1523    2020\n",
       "1524    2020\n",
       "1525    2020\n",
       "Name: cvm_reg, dtype: object"
      ]
     },
     "execution_count": 19,
     "metadata": {},
     "output_type": "execute_result"
    }
   ],
   "source": [
    "ds.iloc[index[0], 41]"
   ]
  },
  {
   "cell_type": "code",
   "execution_count": 20,
   "metadata": {},
   "outputs": [],
   "source": [
    "ds.iloc[index[0], 41] = 1998"
   ]
  },
  {
   "cell_type": "code",
   "execution_count": 21,
   "metadata": {},
   "outputs": [],
   "source": [
    "## Compute firm age again.\n",
    "ds['idade_firma'] = ds['ano'].astype(int) - ds['cvm_reg'].astype(int)"
   ]
  },
  {
   "cell_type": "code",
   "execution_count": 22,
   "metadata": {},
   "outputs": [
    {
     "data": {
      "text/html": [
       "<div>\n",
       "<style scoped>\n",
       "    .dataframe tbody tr th:only-of-type {\n",
       "        vertical-align: middle;\n",
       "    }\n",
       "\n",
       "    .dataframe tbody tr th {\n",
       "        vertical-align: top;\n",
       "    }\n",
       "\n",
       "    .dataframe thead th {\n",
       "        text-align: right;\n",
       "    }\n",
       "</style>\n",
       "<table border=\"1\" class=\"dataframe\">\n",
       "  <thead>\n",
       "    <tr style=\"text-align: right;\">\n",
       "      <th></th>\n",
       "      <th>setor_economatica</th>\n",
       "      <th>setor_bovespa</th>\n",
       "      <th>id_cvm</th>\n",
       "      <th>codigo</th>\n",
       "      <th>listagem_bovespa</th>\n",
       "      <th>at</th>\n",
       "      <th>k</th>\n",
       "      <th>ll</th>\n",
       "      <th>d_cp</th>\n",
       "      <th>d_lp</th>\n",
       "      <th>...</th>\n",
       "      <th>div_pl</th>\n",
       "      <th>roa</th>\n",
       "      <th>roe</th>\n",
       "      <th>rok</th>\n",
       "      <th>fcl_normalizado</th>\n",
       "      <th>divonerosa_normalizado</th>\n",
       "      <th>tx_vendas</th>\n",
       "      <th>epu</th>\n",
       "      <th>cvm_reg</th>\n",
       "      <th>idade_firma</th>\n",
       "    </tr>\n",
       "  </thead>\n",
       "  <tbody>\n",
       "  </tbody>\n",
       "</table>\n",
       "<p>0 rows × 43 columns</p>\n",
       "</div>"
      ],
      "text/plain": [
       "Empty DataFrame\n",
       "Columns: [setor_economatica, setor_bovespa, id_cvm, codigo, listagem_bovespa, at, k, ll, d_cp, d_lp, v, depreciacao, caixa, dividendos, qtd_acoes, pl, v_merc, ebit, desp_fin, div_onerosa, fcl, cap_giro, ano, inv, fc, divida, cv, tamanho, alavanc, caixa_normalizado, dividendos_normalizado, q_tobin, cob_juros, div_pl, roa, roe, rok, fcl_normalizado, divonerosa_normalizado, tx_vendas, epu, cvm_reg, idade_firma]\n",
       "Index: []\n",
       "\n",
       "[0 rows x 43 columns]"
      ]
     },
     "execution_count": 22,
     "metadata": {},
     "output_type": "execute_result"
    }
   ],
   "source": [
    "## Checking negative values\n",
    "ds.loc[ds['idade_firma'] < 0]\n"
   ]
  },
  {
   "cell_type": "code",
   "execution_count": 24,
   "metadata": {},
   "outputs": [],
   "source": [
    "## Exporting to continue in R\n",
    "ds.to_csv(f'{module_path}/raw-data/ds_to_r.csv', index=False, header=True)"
   ]
  }
 ],
 "metadata": {
  "interpreter": {
   "hash": "1d941c93d37f459bccd78a691d83d4424a13868c9a91f8dd5dc1bbe19462440e"
  },
  "kernelspec": {
   "display_name": "Python 3.9.6 64-bit ('dados-abertos': venv)",
   "name": "python3"
  },
  "language_info": {
   "codemirror_mode": {
    "name": "ipython",
    "version": 3
   },
   "file_extension": ".py",
   "mimetype": "text/x-python",
   "name": "python",
   "nbconvert_exporter": "python",
   "pygments_lexer": "ipython3",
   "version": "3.9.7"
  },
  "orig_nbformat": 4
 },
 "nbformat": 4,
 "nbformat_minor": 2
}
