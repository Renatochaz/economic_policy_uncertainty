{
 "cells": [
  {
   "cell_type": "code",
   "execution_count": 10,
   "metadata": {},
   "outputs": [],
   "source": [
    "# Load dependencies.\n",
    "import pandas as pd\n",
    "import numpy as np\n",
    "module_path = os.path.abspath(os.path.join('/home/renatochaz/git/economic_policy_uncertainty/'))\n",
    "if module_path not in sys.path:\n",
    "    sys.path.append(module_path)"
   ]
  },
  {
   "cell_type": "code",
   "execution_count": 12,
   "metadata": {},
   "outputs": [],
   "source": [
    "## Load datasets.\n",
    "ds = pd.read_csv(f'{module_path}/global.csv')\n",
    "cvm = pd.read_csv(f'{module_path}/raw-data/cvm_age_2.csv')\n"
   ]
  },
  {
   "cell_type": "code",
   "execution_count": 31,
   "metadata": {},
   "outputs": [
    {
     "data": {
      "text/plain": [
       "array(['ABEV3', 'AGRO3', 'ALPA4', 'ALUP11', 'AMAR3', 'AMER3', 'ANIM3',\n",
       "       'ARTR3', 'ARZZ3', 'ATMP3', 'AZEV4', 'BALM4', 'BAUH4', 'BDLL4',\n",
       "       'BEEF3', 'BEMA3', 'BHGR3', 'BISA3', 'BOBR4', 'BPHA3', 'BRFS3',\n",
       "       'BRKM5', 'BSEV3', 'CAMB3', 'CARD3', 'CBEE3', 'CCRO3', 'CEDO4',\n",
       "       'CEED3', 'CESP6', 'CLSC4', 'CMIG4', 'COCE5', 'COGN3', 'CPFE3',\n",
       "       'CPLE6', 'CPRE3', 'CREM3', 'CRPG5', 'CRUZ3', 'CSAN3', 'CSMG3',\n",
       "       'CSNA3', 'CTKA4', 'CTNM4', 'CTSA4', 'CYRE3', 'CZLT33', 'DAGB33',\n",
       "       'DASA3', 'DEXP3', 'DIRR3', 'DOHL4', 'DTCY3', 'DTEX3', 'EALT4',\n",
       "       'ECOR3', 'EEEL4', 'EGIE3', 'EKTR4', 'ELEK3', 'ELET3', 'ELPL3',\n",
       "       'EMAE4', 'EMBR3', 'ENAT3', 'ENBR3', 'ENEV3', 'ENGI11', 'ENMT4',\n",
       "       'EPAR3', 'EQTL3', 'ETER3', 'EUCA4', 'EVEN3', 'EZTC3', 'FESA4',\n",
       "       'FHER3', 'FIBR3', 'FLRY3', 'FRAS3', 'FRIO3', 'FRTA3', 'GEPA4',\n",
       "       'GETI3', 'GFSA3', 'GGBR4', 'GOAU4', 'GOLL4', 'GRND3', 'GUAR3',\n",
       "       'HBOR3', 'HGTX3', 'HOOT4', 'HYPE3', 'INEP4', 'ITEC3', 'JBSS3',\n",
       "       'JFEN3', 'JHSF3', 'JOPA3', 'KEPL3', 'KLBN11', 'LAME4', 'LCAM3',\n",
       "       'LEVE3', 'LIGT3', 'LINX3', 'LIXC3', 'LLIS3', 'LOGN3', 'LREN3',\n",
       "       'LUPA3', 'LUXM4', 'MAGG3', 'MDIA3', 'MEND5', 'MGEL4', 'MGLU3',\n",
       "       'MILS3', 'MMXM3', 'MNDL3', 'MNPR3', 'MRFG3', 'MRSA5B', 'MRVE3',\n",
       "       'MSPA3', 'MTSA4', 'MWET4', 'MYPK3', 'NAFG4', 'NTCO3', 'OFSA3',\n",
       "       'OIBR3', 'OSXB3', 'PATI3', 'PCAR3', 'PDGR3', 'PETR4', 'PFRM3',\n",
       "       'PLAS3', 'PMAM3', 'PNVL3', 'POMO4', 'POSI3', 'PRIO3', 'PRML3',\n",
       "       'PRVI3', 'PTBL3', 'PTNT3', 'PTPA4', 'QUAL3', 'RADL3', 'RAIL3',\n",
       "       'RANI3', 'RAPT4', 'RCSL4', 'RDNI3', 'REDE3', 'RENT3', 'RLOG3',\n",
       "       'RNEW4', 'ROMI3', 'RPMG3', 'RSID3', 'RSUL4', 'SAPR11', 'SBSP3',\n",
       "       'SEDU3', 'SEER3', 'SGPS3', 'SHOW3', 'SHUL4', 'SLCE3', 'SLED4',\n",
       "       'SMTO3', 'SNSY5', 'SQIA3', 'STBP3', 'SULT3', 'SUZB3', 'TAEE11',\n",
       "       'TASA4', 'TCSA3', 'TECN3', 'TEKA4', 'TEMP3', 'TERI3', 'TESA3',\n",
       "       'TGMA3', 'TIMS3', 'TKNO4', 'TOTS3', 'TOYB4', 'TPIS3', 'TRIS3',\n",
       "       'TRPL4', 'TUPY3', 'UGPA3', 'UNIP6', 'VALE3', 'VIVR3', 'VIVT3',\n",
       "       'VLID3', 'VULC3', 'VVAR3', 'WEGE3', 'WHRL4', 'WSON33', 'YDUQ3'],\n",
       "      dtype=object)"
      ]
     },
     "execution_count": 31,
     "metadata": {},
     "output_type": "execute_result"
    }
   ],
   "source": [
    "ds['codigo'].unique()"
   ]
  },
  {
   "cell_type": "code",
   "execution_count": 22,
   "metadata": {},
   "outputs": [
    {
     "data": {
      "text/plain": [
       "Index(['CD_CVM', 'DENOM_SOCIAL', 'DENOM_COMERC', 'DT_INI_CATEG', 'dt_reg'], dtype='object')"
      ]
     },
     "execution_count": 22,
     "metadata": {},
     "output_type": "execute_result"
    }
   ],
   "source": [
    "cvm.columns"
   ]
  },
  {
   "cell_type": "code",
   "execution_count": 17,
   "metadata": {},
   "outputs": [],
   "source": [
    "## Transform cv dt_reg to year format.\n",
    "cvm['dt_reg'] = pd.to_datetime(cvm['DT_INI_CATEG']).dt.to_period('Y')"
   ]
  },
  {
   "cell_type": "code",
   "execution_count": 23,
   "metadata": {},
   "outputs": [],
   "source": [
    "## Transform CVM in a dict.\n",
    "cvm_dict = dict(zip(cvm['CD_CVM'], cvm['dt_reg'].dt.strftime('%Y')))"
   ]
  },
  {
   "cell_type": "code",
   "execution_count": 24,
   "metadata": {},
   "outputs": [],
   "source": [
    "## Add cvm reg_date.\n",
    "ds['cvm_reg_2'] = ds['id_cvm'].map(cvm_dict)"
   ]
  },
  {
   "cell_type": "code",
   "execution_count": 27,
   "metadata": {},
   "outputs": [
    {
     "data": {
      "text/plain": [
       "array(['AGRO3', 'ATMP3', 'BALM4', 'BAUH4', 'BDLL4', 'BRKM5', 'CAMB3',\n",
       "       'CBEE3', 'CEDO4', 'CESP6', 'CLSC4', 'CMIG4', 'CRUZ3', 'CSNA3',\n",
       "       'CTKA4', 'CTNM4', 'CTSA4', 'CZLT33', 'DAGB33', 'DOHL4', 'EALT4',\n",
       "       'EEEL4', 'ELEK3', 'ELET3', 'ETER3', 'EUCA4', 'FESA4', 'FIBR3',\n",
       "       'FRAS3', 'GGBR4', 'GOAU4', 'GUAR3', 'HOOT4', 'INEP4', 'JFEN3',\n",
       "       'KEPL3', 'LAME4', 'LEVE3', 'LIXC3', 'LREN3', 'LUXM4', 'MEND5',\n",
       "       'MGEL4', 'MNDL3', 'MSPA3', 'MTSA4', 'NAFG4', 'PATI3', 'PETR4',\n",
       "       'PMAM3', 'PNVL3', 'POMO4', 'PTNT3', 'RADL3', 'RANI3', 'REDE3',\n",
       "       'ROMI3', 'RPMG3', 'TASA4', 'TUPY3', 'VALE3', 'VVAR3', 'WEGE3',\n",
       "       'WSON33'], dtype=object)"
      ]
     },
     "execution_count": 27,
     "metadata": {},
     "output_type": "execute_result"
    }
   ],
   "source": [
    "## Finding firms without id_cvm in the dict.\n",
    "ds.loc[ds['cvm_reg_2'].isnull(),:]['codigo'].unique()"
   ]
  },
  {
   "cell_type": "code",
   "execution_count": 9,
   "metadata": {},
   "outputs": [],
   "source": [
    "## Manually created dict with dt_reg dates.\n",
    "man_dict = {\n",
    "    'AGRO3':\n",
    "    'BALM4':1970, 'BAUH4':1977, 'BDLL4':1969, 'BRKM5':1978,\n",
    "            'CAMB3':1985, 'CBEE3':1969, 'CEDO4':1969, 'CESP6':1971,\n",
    "            'CLSC4':1973, 'CMIG4':1971, 'CRUZ3':1969, 'CSNA3':1943,\n",
    "            'CTKA4': 1971, 'CTNM4':1971, 'CTSA4':1984, 'CZLT33':2005,\n",
    "            'DAGB33':1998, 'DOHL4': 1937, 'EALT4': 1950, 'EEEL4': 1970,\n",
    "            'ELEK3':1971, 'ELET3':1996, 'ETER3':1970, 'EUCA4':1969,\n",
    "            'FESA4':1961, 'FRAS3':1977, 'GGBR4':1980, 'GOAU4':1968,\n",
    "            'GUAR3':1958, 'HOOT4':1980, 'INEP4':1980, 'JFEN3': 1977,\n",
    "            'KEPL3':1980, 'LAME4':1977, 'LEVE3':1977, 'LIXC3':1977,\n",
    "            'LREN3':1977, 'LUXM4':1980, 'MEND5':1977, 'MGEL4':1971,\n",
    "            'MNDL3':1979, 'MSPA3':1977, 'MTSA4':1971, 'NAFG4':1977,\n",
    "            'PATI3':1971, 'PETR4':1977, 'PMAM3':1977, 'PNVL3':1977,\n",
    "            'POMO4':1977, 'PTNT3':2000, 'RADL3':1977, 'RANI3':1977,\n",
    "            'REDE3':1969, 'ROMI3':1938, 'RPMG3':1970, 'TASA4':1982,\n",
    "            'TUPY3':1966, 'VALE3': 1970, 'VVAR3':1981, 'WEGE3':1982, 'WSON33':1998}"
   ]
  },
  {
   "cell_type": "code",
   "execution_count": 10,
   "metadata": {},
   "outputs": [],
   "source": [
    "## Add cvm reg_date from dict2.\n",
    "ds['cvm_reg2'] = ds['codigo'].map(man_dict)"
   ]
  },
  {
   "cell_type": "code",
   "execution_count": 11,
   "metadata": {},
   "outputs": [
    {
     "data": {
      "text/plain": [
       "(array([], dtype=int64),)"
      ]
     },
     "execution_count": 11,
     "metadata": {},
     "output_type": "execute_result"
    }
   ],
   "source": [
    "## Check where information conflict.\n",
    "np.where(ds['cvm_reg2'].isnull() == ds['cvm_reg'].isnull())\n"
   ]
  },
  {
   "cell_type": "code",
   "execution_count": 12,
   "metadata": {},
   "outputs": [],
   "source": [
    "## Merge columns together.\n",
    "ds['cvm_reg'].update(ds.pop('cvm_reg2'))"
   ]
  },
  {
   "cell_type": "code",
   "execution_count": 13,
   "metadata": {},
   "outputs": [
    {
     "data": {
      "text/plain": [
       "0"
      ]
     },
     "execution_count": 13,
     "metadata": {},
     "output_type": "execute_result"
    }
   ],
   "source": [
    "## Checking NA.\n",
    "ds['cvm_reg'].isnull().sum()"
   ]
  },
  {
   "cell_type": "code",
   "execution_count": 14,
   "metadata": {},
   "outputs": [],
   "source": [
    "## Create firm age.\n",
    "ds['idade_firma'] = ds['ano'].astype(int) - ds['cvm_reg'].astype(int)"
   ]
  },
  {
   "cell_type": "code",
   "execution_count": 15,
   "metadata": {},
   "outputs": [
    {
     "data": {
      "text/plain": [
       "(array([   0,    1, 1067, 1068, 1069, 1070, 1071, 1072, 1073, 1074, 1517,\n",
       "        1518, 1519, 1520, 1521, 1522, 1523, 1524, 1525]),)"
      ]
     },
     "execution_count": 15,
     "metadata": {},
     "output_type": "execute_result"
    }
   ],
   "source": [
    "## Checking negative values\n",
    "np.where(ds['idade_firma'] < 0)"
   ]
  },
  {
   "cell_type": "code",
   "execution_count": 16,
   "metadata": {},
   "outputs": [
    {
     "data": {
      "text/plain": [
       "array(['ABEV3', 'NTCO3', 'TIMS3'], dtype=object)"
      ]
     },
     "execution_count": 16,
     "metadata": {},
     "output_type": "execute_result"
    }
   ],
   "source": [
    "## Get firms with inconsistency age\n",
    "ds.loc[ds['idade_firma'] < 0]['codigo'].unique()"
   ]
  },
  {
   "cell_type": "code",
   "execution_count": 17,
   "metadata": {},
   "outputs": [
    {
     "data": {
      "text/plain": [
       "1998.0"
      ]
     },
     "execution_count": 17,
     "metadata": {},
     "output_type": "execute_result"
    }
   ],
   "source": [
    "## Get median to change cvm_reg from firms with negative age\n",
    "ds['cvm_reg'].astype(int).median()"
   ]
  },
  {
   "cell_type": "code",
   "execution_count": 18,
   "metadata": {},
   "outputs": [],
   "source": [
    "## Changing cvm_reg for those firms\n",
    "index = np.where(ds['codigo'].isin(['ABEV3', 'NTCO3', 'TIMS3']))"
   ]
  },
  {
   "cell_type": "code",
   "execution_count": 19,
   "metadata": {},
   "outputs": [
    {
     "data": {
      "text/plain": [
       "0       2013\n",
       "1       2013\n",
       "2       2013\n",
       "3       2013\n",
       "4       2013\n",
       "5       2013\n",
       "6       2013\n",
       "7       2013\n",
       "8       2013\n",
       "1067    2019\n",
       "1068    2019\n",
       "1069    2019\n",
       "1070    2019\n",
       "1071    2019\n",
       "1072    2019\n",
       "1073    2019\n",
       "1074    2019\n",
       "1075    2019\n",
       "1517    2020\n",
       "1518    2020\n",
       "1519    2020\n",
       "1520    2020\n",
       "1521    2020\n",
       "1522    2020\n",
       "1523    2020\n",
       "1524    2020\n",
       "1525    2020\n",
       "Name: cvm_reg, dtype: object"
      ]
     },
     "execution_count": 19,
     "metadata": {},
     "output_type": "execute_result"
    }
   ],
   "source": [
    "ds.iloc[index[0], 41]"
   ]
  },
  {
   "cell_type": "code",
   "execution_count": 20,
   "metadata": {},
   "outputs": [],
   "source": [
    "ds.iloc[index[0], 41] = 1998"
   ]
  },
  {
   "cell_type": "code",
   "execution_count": 21,
   "metadata": {},
   "outputs": [],
   "source": [
    "## Compute firm age again.\n",
    "ds['idade_firma'] = ds['ano'].astype(int) - ds['cvm_reg'].astype(int)"
   ]
  },
  {
   "cell_type": "code",
   "execution_count": 22,
   "metadata": {},
   "outputs": [
    {
     "data": {
      "text/html": [
       "<div>\n",
       "<style scoped>\n",
       "    .dataframe tbody tr th:only-of-type {\n",
       "        vertical-align: middle;\n",
       "    }\n",
       "\n",
       "    .dataframe tbody tr th {\n",
       "        vertical-align: top;\n",
       "    }\n",
       "\n",
       "    .dataframe thead th {\n",
       "        text-align: right;\n",
       "    }\n",
       "</style>\n",
       "<table border=\"1\" class=\"dataframe\">\n",
       "  <thead>\n",
       "    <tr style=\"text-align: right;\">\n",
       "      <th></th>\n",
       "      <th>setor_economatica</th>\n",
       "      <th>setor_bovespa</th>\n",
       "      <th>id_cvm</th>\n",
       "      <th>codigo</th>\n",
       "      <th>listagem_bovespa</th>\n",
       "      <th>at</th>\n",
       "      <th>k</th>\n",
       "      <th>ll</th>\n",
       "      <th>d_cp</th>\n",
       "      <th>d_lp</th>\n",
       "      <th>...</th>\n",
       "      <th>div_pl</th>\n",
       "      <th>roa</th>\n",
       "      <th>roe</th>\n",
       "      <th>rok</th>\n",
       "      <th>fcl_normalizado</th>\n",
       "      <th>divonerosa_normalizado</th>\n",
       "      <th>tx_vendas</th>\n",
       "      <th>epu</th>\n",
       "      <th>cvm_reg</th>\n",
       "      <th>idade_firma</th>\n",
       "    </tr>\n",
       "  </thead>\n",
       "  <tbody>\n",
       "  </tbody>\n",
       "</table>\n",
       "<p>0 rows × 43 columns</p>\n",
       "</div>"
      ],
      "text/plain": [
       "Empty DataFrame\n",
       "Columns: [setor_economatica, setor_bovespa, id_cvm, codigo, listagem_bovespa, at, k, ll, d_cp, d_lp, v, depreciacao, caixa, dividendos, qtd_acoes, pl, v_merc, ebit, desp_fin, div_onerosa, fcl, cap_giro, ano, inv, fc, divida, cv, tamanho, alavanc, caixa_normalizado, dividendos_normalizado, q_tobin, cob_juros, div_pl, roa, roe, rok, fcl_normalizado, divonerosa_normalizado, tx_vendas, epu, cvm_reg, idade_firma]\n",
       "Index: []\n",
       "\n",
       "[0 rows x 43 columns]"
      ]
     },
     "execution_count": 22,
     "metadata": {},
     "output_type": "execute_result"
    }
   ],
   "source": [
    "## Checking negative values\n",
    "ds.loc[ds['idade_firma'] < 0]\n"
   ]
  },
  {
   "cell_type": "code",
   "execution_count": 24,
   "metadata": {},
   "outputs": [],
   "source": [
    "## Exporting to continue in R\n",
    "ds.to_csv(f'{module_path}/raw-data/ds_to_r.csv', index=False, header=True)"
   ]
  }
 ],
 "metadata": {
  "interpreter": {
   "hash": "1d941c93d37f459bccd78a691d83d4424a13868c9a91f8dd5dc1bbe19462440e"
  },
  "kernelspec": {
   "display_name": "Python 3.9.6 64-bit ('dados-abertos': venv)",
   "name": "python3"
  },
  "language_info": {
   "codemirror_mode": {
    "name": "ipython",
    "version": 3
   },
   "file_extension": ".py",
   "mimetype": "text/x-python",
   "name": "python",
   "nbconvert_exporter": "python",
   "pygments_lexer": "ipython3",
   "version": "3.9.7"
  },
  "orig_nbformat": 4
 },
 "nbformat": 4,
 "nbformat_minor": 2
}
