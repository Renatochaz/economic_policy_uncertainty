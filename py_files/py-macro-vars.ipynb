{
 "cells": [
  {
   "cell_type": "code",
   "execution_count": 1,
   "metadata": {},
   "outputs": [],
   "source": [
    "# Load dependencies.\n",
    "import pandas as pd\n",
    "import numpy as np\n",
    "import datetime as dt\n",
    "module_path = os.path.abspath(os.path.join('/home/renatochaz/git/economic_policy_uncertainty/'))\n",
    "if module_path not in sys.path:\n",
    "    sys.path.append(module_path)\n"
   ]
  },
  {
   "cell_type": "markdown",
   "metadata": {},
   "source": [
    "# Embi"
   ]
  },
  {
   "cell_type": "code",
   "execution_count": 2,
   "metadata": {},
   "outputs": [],
   "source": [
    "## Load datasets.\n",
    "embi = pd.read_csv(f'{module_path}/raw-data/embi.csv')\n"
   ]
  },
  {
   "cell_type": "code",
   "execution_count": 3,
   "metadata": {},
   "outputs": [],
   "source": [
    "## Transform date to year.\n",
    "embi['Data'] = pd.to_datetime(embi['Data']).dt.to_period('Y')\n"
   ]
  },
  {
   "cell_type": "code",
   "execution_count": 4,
   "metadata": {},
   "outputs": [
    {
     "name": "stderr",
     "output_type": "stream",
     "text": [
      "/tmp/ipykernel_8498/3110935062.py:2: FutureWarning: In a future version of pandas all arguments of DataFrame.drop except for the argument 'labels' will be keyword-only\n",
      "  embi.drop('Unnamed: 2', 1, inplace=True)\n"
     ]
    }
   ],
   "source": [
    "## Drop last column and na rows.\n",
    "embi.drop('Unnamed: 2', 1, inplace=True)\n",
    "embi.dropna(inplace=True)"
   ]
  },
  {
   "cell_type": "code",
   "execution_count": 5,
   "metadata": {},
   "outputs": [],
   "source": [
    "## Rename columns.\n",
    "embi.columns = ['ano', 'embi']"
   ]
  },
  {
   "cell_type": "code",
   "execution_count": 6,
   "metadata": {},
   "outputs": [],
   "source": [
    "# Groupy by year.\n",
    "embi = embi.groupby(['ano'],as_index=False).agg({'embi': 'median'})\n",
    "embi.columns = list(map(''.join, embi.columns.values))\n"
   ]
  },
  {
   "cell_type": "code",
   "execution_count": 7,
   "metadata": {},
   "outputs": [],
   "source": [
    "## Exporting\n",
    "embi.to_csv(f'{module_path}/raw-data/adj_embi.csv', index=False, header=True)\n"
   ]
  },
  {
   "cell_type": "markdown",
   "metadata": {},
   "source": [
    "# iee"
   ]
  },
  {
   "cell_type": "code",
   "execution_count": 8,
   "metadata": {},
   "outputs": [],
   "source": [
    "## Load dataset.\n",
    "iee = pd.read_csv(f'{module_path}/raw-data/iee-br.csv', delimiter=';')"
   ]
  },
  {
   "cell_type": "code",
   "execution_count": 9,
   "metadata": {},
   "outputs": [],
   "source": [
    "## Change to year format.\n",
    "iee['Data'] = pd.to_datetime(iee['Data']).dt.to_period('Y')\n"
   ]
  },
  {
   "cell_type": "code",
   "execution_count": 10,
   "metadata": {},
   "outputs": [],
   "source": [
    "## Rename columns.\n",
    "iee.columns = ['ano', 'iee']\n"
   ]
  },
  {
   "cell_type": "code",
   "execution_count": 11,
   "metadata": {},
   "outputs": [],
   "source": [
    "## Groupy by year.\n",
    "iee = iee.groupby(['ano'], as_index=False).agg({'iee': 'median'})\n",
    "iee.columns = list(map(''.join, iee.columns.values))\n"
   ]
  },
  {
   "cell_type": "code",
   "execution_count": 12,
   "metadata": {},
   "outputs": [],
   "source": [
    "## Exporting\n",
    "iee.to_csv(f'{module_path}/raw-data/adj_iee.csv', index=False, header=True)"
   ]
  },
  {
   "cell_type": "markdown",
   "metadata": {},
   "source": [
    "# Appending to main dataset"
   ]
  },
  {
   "cell_type": "code",
   "execution_count": 13,
   "metadata": {},
   "outputs": [],
   "source": [
    "## Load dataset.\n",
    "df = pd.read_csv(f'{module_path}/raw-data/py_macro.csv')"
   ]
  },
  {
   "cell_type": "code",
   "execution_count": 14,
   "metadata": {},
   "outputs": [],
   "source": [
    "## Create dict for vars.\n",
    "embi_dict = dict(zip(embi['ano'].astype('str'), embi['embi']))\n",
    "iee_dict = dict(zip(iee['ano'].astype('str'), iee['iee']))\n"
   ]
  },
  {
   "cell_type": "code",
   "execution_count": 15,
   "metadata": {},
   "outputs": [],
   "source": [
    "## Append vars to main dataset.\n",
    "df['embi'] = df['ano'].astype(str).map(embi_dict)\n",
    "df['iee'] = df['ano'].astype(str).map(iee_dict)"
   ]
  },
  {
   "cell_type": "code",
   "execution_count": 16,
   "metadata": {},
   "outputs": [],
   "source": [
    "## Exporting\n",
    "df.to_csv(f'{module_path}/global.csv', index=False, header=True)"
   ]
  }
 ],
 "metadata": {
  "interpreter": {
   "hash": "1d941c93d37f459bccd78a691d83d4424a13868c9a91f8dd5dc1bbe19462440e"
  },
  "kernelspec": {
   "display_name": "Python 3.9.6 64-bit ('dados-abertos': venv)",
   "name": "python3"
  },
  "language_info": {
   "codemirror_mode": {
    "name": "ipython",
    "version": 3
   },
   "file_extension": ".py",
   "mimetype": "text/x-python",
   "name": "python",
   "nbconvert_exporter": "python",
   "pygments_lexer": "ipython3",
   "version": "3.9.7"
  },
  "orig_nbformat": 4
 },
 "nbformat": 4,
 "nbformat_minor": 2
}
