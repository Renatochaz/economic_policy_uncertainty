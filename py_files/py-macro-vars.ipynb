{
 "cells": [
  {
   "cell_type": "code",
   "execution_count": 2,
   "source": [
    "# Load dependencies.\n",
    "import pandas as pd\n",
    "import numpy as np\n",
    "import datetime as dt\n"
   ],
   "outputs": [],
   "metadata": {}
  },
  {
   "cell_type": "markdown",
   "source": [
    "# Embi"
   ],
   "metadata": {}
  },
  {
   "cell_type": "code",
   "execution_count": 3,
   "source": [
    "## Load datasets.\n",
    "embi = pd.read_csv('raw-data/embi.csv')\n"
   ],
   "outputs": [],
   "metadata": {}
  },
  {
   "cell_type": "code",
   "execution_count": 4,
   "source": [
    "## Transform date to year.\n",
    "embi['Data'] = pd.to_datetime(embi['Data']).dt.to_period('Y')\n"
   ],
   "outputs": [],
   "metadata": {}
  },
  {
   "cell_type": "code",
   "execution_count": 5,
   "source": [
    "## Drop last column and na rows.\n",
    "embi.drop('Unnamed: 2', 1, inplace=True)\n",
    "embi.dropna(inplace=True)"
   ],
   "outputs": [
    {
     "output_type": "stream",
     "name": "stderr",
     "text": [
      "/tmp/ipykernel_218/3110935062.py:2: FutureWarning: In a future version of pandas all arguments of DataFrame.drop except for the argument 'labels' will be keyword-only\n",
      "  embi.drop('Unnamed: 2', 1, inplace=True)\n"
     ]
    }
   ],
   "metadata": {}
  },
  {
   "cell_type": "code",
   "execution_count": 6,
   "source": [
    "## Rename columns.\n",
    "embi.columns = ['ano', 'embi']"
   ],
   "outputs": [],
   "metadata": {}
  },
  {
   "cell_type": "code",
   "execution_count": 7,
   "source": [
    "# Groupy by year.\n",
    "embi = embi.groupby(['ano'],as_index=False).agg({'embi': 'median'})\n",
    "embi.columns = list(map(''.join, embi.columns.values))\n"
   ],
   "outputs": [],
   "metadata": {}
  },
  {
   "cell_type": "code",
   "execution_count": 8,
   "source": [
    "## Exporting\n",
    "embi.to_csv('raw-data/adj_embi.csv', index=False, header=True)\n"
   ],
   "outputs": [],
   "metadata": {}
  },
  {
   "cell_type": "markdown",
   "source": [
    "# fbcf"
   ],
   "metadata": {}
  },
  {
   "cell_type": "code",
   "execution_count": 9,
   "source": [
    "# Load dataset\n",
    "fbcf = pd.read_csv('raw-data/fbcf.csv')\n"
   ],
   "outputs": [],
   "metadata": {}
  },
  {
   "cell_type": "code",
   "execution_count": 10,
   "source": [
    "## Transform date to year.\n",
    "fbcf['Data'] = pd.to_datetime(fbcf['Data'].astype(\n",
    "    'str').apply(lambda x: dt.datetime.strptime(x, '%Y.%m')))\n",
    "fbcf['Data'] = pd.to_datetime(fbcf['Data']).dt.to_period('Y')\n"
   ],
   "outputs": [],
   "metadata": {}
  },
  {
   "cell_type": "code",
   "execution_count": 11,
   "source": [
    "## Drop last column and na rows.\n",
    "fbcf.drop('Unnamed: 2', 1, inplace=True)\n",
    "fbcf.dropna(inplace=True)\n"
   ],
   "outputs": [
    {
     "output_type": "stream",
     "name": "stderr",
     "text": [
      "/tmp/ipykernel_218/4002609650.py:2: FutureWarning: In a future version of pandas all arguments of DataFrame.drop except for the argument 'labels' will be keyword-only\n",
      "  fbcf.drop('Unnamed: 2', 1, inplace=True)\n"
     ]
    }
   ],
   "metadata": {}
  },
  {
   "cell_type": "code",
   "execution_count": 12,
   "source": [
    "## Rename columns.\n",
    "fbcf.columns = ['ano', 'fbcf']\n"
   ],
   "outputs": [],
   "metadata": {}
  },
  {
   "cell_type": "code",
   "execution_count": 13,
   "source": [
    "# Groupy by year.\n",
    "fbcf = fbcf.groupby(['ano'], as_index=False).agg({'fbcf': 'median'})\n",
    "fbcf.columns = list(map(''.join, fbcf.columns.values))\n"
   ],
   "outputs": [],
   "metadata": {}
  },
  {
   "cell_type": "code",
   "execution_count": 14,
   "source": [
    "## Exporting\n",
    "fbcf.to_csv('raw-data/adj_fbcf.csv', index=False, header=True)\n"
   ],
   "outputs": [],
   "metadata": {}
  },
  {
   "cell_type": "markdown",
   "source": [
    "# iee"
   ],
   "metadata": {}
  },
  {
   "cell_type": "code",
   "execution_count": 15,
   "source": [
    "## Load dataset.\n",
    "iee = pd.read_csv('raw-data/iee-br.csv', delimiter=';')"
   ],
   "outputs": [],
   "metadata": {}
  },
  {
   "cell_type": "code",
   "execution_count": 16,
   "source": [
    "## Change to year format.\n",
    "iee['Data'] = pd.to_datetime(iee['Data']).dt.to_period('Y')\n"
   ],
   "outputs": [],
   "metadata": {}
  },
  {
   "cell_type": "code",
   "execution_count": 17,
   "source": [
    "## Rename columns.\n",
    "iee.columns = ['ano', 'iee']\n"
   ],
   "outputs": [],
   "metadata": {}
  },
  {
   "cell_type": "code",
   "execution_count": 18,
   "source": [
    "## Groupy by year.\n",
    "iee = iee.groupby(['ano'], as_index=False).agg({'iee': 'median'})\n",
    "iee.columns = list(map(''.join, iee.columns.values))\n"
   ],
   "outputs": [],
   "metadata": {}
  },
  {
   "cell_type": "code",
   "execution_count": 19,
   "source": [
    "## Exporting\n",
    "iee.to_csv('raw-data/adj_iee.csv', index=False, header=True)"
   ],
   "outputs": [],
   "metadata": {}
  },
  {
   "cell_type": "markdown",
   "source": [
    "# Appending to main dataset"
   ],
   "metadata": {}
  },
  {
   "cell_type": "code",
   "execution_count": 20,
   "source": [
    "## Load dataset.\n",
    "df = pd.read_csv('raw-data/py_macro.csv')"
   ],
   "outputs": [],
   "metadata": {}
  },
  {
   "cell_type": "code",
   "execution_count": 48,
   "source": [
    "## Create dict for vars.\n",
    "embi_dict = dict(zip(embi['ano'].astype('str'), embi['embi']))\n",
    "fbcf_dict = dict(zip(fbcf['ano'].astype('str'), fbcf['fbcf']))\n",
    "iee_dict = dict(zip(iee['ano'].astype('str'), iee['iee']))\n"
   ],
   "outputs": [],
   "metadata": {}
  },
  {
   "cell_type": "code",
   "execution_count": 56,
   "source": [
    "## Append vars to main dataset.\n",
    "df['embi'] = df['ano'].astype(str).map(embi_dict)\n",
    "df['fbcf'] = df['ano'].astype(str).map(fbcf_dict)\n",
    "df['iee'] = df['ano'].astype(str).map(iee_dict)"
   ],
   "outputs": [],
   "metadata": {}
  },
  {
   "cell_type": "code",
   "execution_count": 58,
   "source": [
    "## Exporting\n",
    "df.to_csv('global.csv', index=False, header=True)"
   ],
   "outputs": [],
   "metadata": {}
  }
 ],
 "metadata": {
  "orig_nbformat": 4,
  "language_info": {
   "name": "python",
   "version": "3.9.6",
   "mimetype": "text/x-python",
   "codemirror_mode": {
    "name": "ipython",
    "version": 3
   },
   "pygments_lexer": "ipython3",
   "nbconvert_exporter": "python",
   "file_extension": ".py"
  },
  "kernelspec": {
   "name": "python3",
   "display_name": "Python 3.9.6 64-bit ('dados-abertos': venv)"
  },
  "interpreter": {
   "hash": "1d941c93d37f459bccd78a691d83d4424a13868c9a91f8dd5dc1bbe19462440e"
  }
 },
 "nbformat": 4,
 "nbformat_minor": 2
}