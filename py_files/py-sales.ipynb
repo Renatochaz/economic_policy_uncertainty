{
 "cells": [
  {
   "cell_type": "code",
   "execution_count": 1,
   "metadata": {},
   "outputs": [],
   "source": [
    "# Load dependencies.\n",
    "import pandas as pd\n",
    "import numpy as np\n",
    "module_path = os.path.abspath(os.path.join('/home/renatochaz/git/economic_policy_uncertainty/'))\n",
    "if module_path not in sys.path:\n",
    "    sys.path.append(module_path)"
   ]
  },
  {
   "cell_type": "code",
   "execution_count": 2,
   "metadata": {},
   "outputs": [],
   "source": [
    "## Load datasets.\n",
    "ds = pd.read_csv(f'{module_path}/raw-data/py_sales.csv')"
   ]
  },
  {
   "cell_type": "code",
   "execution_count": 3,
   "metadata": {},
   "outputs": [],
   "source": [
    "# Create dataset to compute industry sales growth\n",
    "ds = ds[['setor_economatica', 'ano', 'v']]\n"
   ]
  },
  {
   "cell_type": "code",
   "execution_count": 4,
   "metadata": {},
   "outputs": [],
   "source": [
    "## Groupy by sales by sector\n",
    "ds = ds.groupby(['setor_economatica', 'ano'],\n",
    "                  as_index=False).agg({'v': ['sum']})\n",
    "ds.columns = list(map(''.join, ds.columns.values))\n"
   ]
  },
  {
   "cell_type": "code",
   "execution_count": 5,
   "metadata": {},
   "outputs": [],
   "source": [
    "## Exporting to continue in R\n",
    "ds.to_csv(f'{module_path}/raw-data/sales_to_r.csv', index=False, header=True)\n"
   ]
  }
 ],
 "metadata": {
  "interpreter": {
   "hash": "1d941c93d37f459bccd78a691d83d4424a13868c9a91f8dd5dc1bbe19462440e"
  },
  "kernelspec": {
   "display_name": "Python 3.9.6 64-bit ('dados-abertos': venv)",
   "name": "python3"
  },
  "language_info": {
   "codemirror_mode": {
    "name": "ipython",
    "version": 3
   },
   "file_extension": ".py",
   "mimetype": "text/x-python",
   "name": "python",
   "nbconvert_exporter": "python",
   "pygments_lexer": "ipython3",
   "version": "3.9.7"
  },
  "orig_nbformat": 4
 },
 "nbformat": 4,
 "nbformat_minor": 2
}
