{
 "cells": [
  {
   "cell_type": "code",
   "execution_count": 1,
   "source": [
    "## Load dependencies.\n",
    "import pandas as pd\n",
    "import numpy as np"
   ],
   "outputs": [],
   "metadata": {}
  },
  {
   "cell_type": "code",
   "execution_count": 2,
   "source": [
    "## Load datasets.\n",
    "ds = pd.read_csv('raw-data/py_growth_sales.csv')\n",
    "gsales = pd.read_csv('raw-data/growth_sales.csv')"
   ],
   "outputs": [],
   "metadata": {}
  },
  {
   "cell_type": "code",
   "execution_count": 6,
   "source": [
    "## Append growth sales information to the main dataset.\n",
    "for i in range(len(gsales)):\n",
    "    index = np.where(ds['ano'].eq(gsales.loc[i, 'ano']) & ds['setor_economatica'].eq(\n",
    "        gsales.loc[i, 'setor_economatica']))\n",
    "\n",
    "    ds.loc[index[0], 'cv_industria'] = gsales.loc[i, 'cv_industria']"
   ],
   "outputs": [],
   "metadata": {}
  },
  {
   "cell_type": "code",
   "execution_count": 11,
   "source": [
    "## Exporting to continue in R\n",
    "ds.to_csv('raw-data/ds_sales_to_r.csv', index=False, header=True)"
   ],
   "outputs": [],
   "metadata": {}
  }
 ],
 "metadata": {
  "orig_nbformat": 4,
  "language_info": {
   "name": "python",
   "version": "3.9.6",
   "mimetype": "text/x-python",
   "codemirror_mode": {
    "name": "ipython",
    "version": 3
   },
   "pygments_lexer": "ipython3",
   "nbconvert_exporter": "python",
   "file_extension": ".py"
  },
  "kernelspec": {
   "name": "python3",
   "display_name": "Python 3.9.6 64-bit ('dados-abertos': venv)"
  },
  "interpreter": {
   "hash": "1d941c93d37f459bccd78a691d83d4424a13868c9a91f8dd5dc1bbe19462440e"
  }
 },
 "nbformat": 4,
 "nbformat_minor": 2
}